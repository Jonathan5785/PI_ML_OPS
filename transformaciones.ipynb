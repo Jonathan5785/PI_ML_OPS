{
 "cells": [
  {
   "cell_type": "code",
   "execution_count": 3,
   "metadata": {},
   "outputs": [],
   "source": [
    "import pandas as pd\n",
    "df_amazon=pd.read_csv('../MLOpsReviews/amazon_prime_titles.csv')\n",
    "df_disney=pd.read_csv('../MLOpsReviews/disney_plus_titles.csv')\n",
    "df_hulu=pd.read_csv('../MLOpsReviews/hulu_titles.csv')\n",
    "df_netflix=pd.read_csv('../MLOpsReviews/netflix_titles.csv')"
   ]
  },
  {
   "cell_type": "code",
   "execution_count": 4,
   "metadata": {},
   "outputs": [],
   "source": [
    "df1 = pd.read_csv('../MLOpsReviews/ratings/1.csv')\n",
    "df2 = pd.read_csv('../MLOpsReviews/ratings/2.csv')\n",
    "df3 = pd.read_csv('../MLOpsReviews/ratings/3.csv')\n",
    "df4 = pd.read_csv('../MLOpsReviews/ratings/4.csv')\n",
    "df5 = pd.read_csv('../MLOpsReviews/ratings/5.csv')\n",
    "df6 = pd.read_csv('../MLOpsReviews/ratings/6.csv')\n",
    "df7 = pd.read_csv('../MLOpsReviews/ratings/7.csv')\n",
    "df8 = pd.read_csv('../MLOpsReviews/ratings/8.csv')"
   ]
  },
  {
   "attachments": {},
   "cell_type": "markdown",
   "metadata": {},
   "source": [
    "##### Transformaciones: Para este MVP no necesitas perfección, ¡necesitas rapidez! ⏩ Vas a hacer estas, y solo estas, transformaciones a los datos:"
   ]
  },
  {
   "cell_type": "code",
   "execution_count": 5,
   "metadata": {},
   "outputs": [],
   "source": [
    "# Generar campo id: Cada id se compondrá de la primera letra del nombre de la plataforma, \n",
    "# seguido del show_id ya presente en los datasets (ejemplo para títulos de Amazon = as123)\n",
    "df_amazon['show_id'] = 'a'+df_amazon['show_id']\n",
    "df_disney['show_id'] = 'd'+df_disney['show_id']\n",
    "df_hulu['show_id'] = 'h'+df_hulu['show_id']\n",
    "df_netflix['show_id'] = 'n'+df_netflix['show_id']\n"
   ]
  },
  {
   "cell_type": "code",
   "execution_count": 6,
   "metadata": {},
   "outputs": [],
   "source": [
    "# Une los dataframes de plataformas\n",
    "df_plataforma = pd.concat([df_amazon,df_disney,df_hulu,df_netflix],ignore_index=True)"
   ]
  },
  {
   "cell_type": "code",
   "execution_count": 7,
   "metadata": {},
   "outputs": [],
   "source": [
    "# Los valores nulos del campo rating deberán reemplazarse por el string “G” (corresponde al maturity rating: “general for all audiences”\n",
    "import numpy as np\n",
    "df_plataforma['rating'] = df_plataforma['rating'].replace(np.nan,'G')\n",
    "df_plataforma['duration'] = df_plataforma['duration'].replace(np.nan,'0')"
   ]
  },
  {
   "cell_type": "code",
   "execution_count": 8,
   "metadata": {},
   "outputs": [],
   "source": [
    "# De haber fechas, deberán tener el formato AAAA-mm-dd\n",
    "df_plataforma.date_added = pd.to_datetime(df_plataforma.date_added)"
   ]
  },
  {
   "cell_type": "code",
   "execution_count": 9,
   "metadata": {},
   "outputs": [],
   "source": [
    "# Los campos de texto deberán estar en minúsculas, sin excepciones\n",
    "df_plataforma = df_plataforma.apply(lambda x: x.str.lower() if x.dtype=='object' else x)"
   ]
  },
  {
   "cell_type": "code",
   "execution_count": 10,
   "metadata": {},
   "outputs": [
    {
     "name": "stderr",
     "output_type": "stream",
     "text": [
      "C:\\Users\\libra\\AppData\\Local\\Temp\\ipykernel_13036\\4073943326.py:2: FutureWarning: The pandas.np module is deprecated and will be removed from pandas in a future version. Import numpy directly instead.\n",
      "  mascara_min = df_plataforma[df_plataforma.rating.str.contains('min')].assign(duration=df_plataforma['rating']).assign(rating=pd.np.nan)\n",
      "C:\\Users\\libra\\AppData\\Local\\Temp\\ipykernel_13036\\4073943326.py:6: FutureWarning: The pandas.np module is deprecated and will be removed from pandas in a future version. Import numpy directly instead.\n",
      "  mascara_season = df_plataforma[df_plataforma.rating.str.contains('eason')].assign(duration=df_plataforma['rating']).assign(rating=pd.np.nan)\n"
     ]
    }
   ],
   "source": [
    "# Actualizo la columna \"duration\" con los valores que se corrieron a la izquierda (\"rating\")\n",
    "mascara_min = df_plataforma[df_plataforma.rating.str.contains('min')].assign(duration=df_plataforma['rating']).assign(rating=pd.np.nan)\n",
    "mascara_min['rating'] = mascara_min['rating'].replace(np.nan,'G')\n",
    "df_plataforma.drop(index=mascara_min.index, inplace=True)\n",
    "df_plataforma = pd.concat([df_plataforma,mascara_min])\n",
    "mascara_season = df_plataforma[df_plataforma.rating.str.contains('eason')].assign(duration=df_plataforma['rating']).assign(rating=pd.np.nan)\n",
    "mascara_season['rating'] = mascara_season['rating'].replace(np.nan,'G')\n",
    "df_plataforma.drop(index=mascara_season.index, inplace=True)\n",
    "df_plataforma = pd.concat([df_plataforma,mascara_season])"
   ]
  },
  {
   "cell_type": "code",
   "execution_count": 11,
   "metadata": {},
   "outputs": [],
   "source": [
    "# El campo duration debe convertirse en dos campos: duration_int y duration_type. \n",
    "# El primero será un integer y el segundo un string indicando la unidad de medición de duración: min (minutos) o season (temporadas)\n",
    "\n",
    "df_plataforma[['duration_int','duration_type']] = df_plataforma['duration'].str.extract('(\\d+)\\s(\\w+)')\n",
    "df_plataforma['duration_int'].fillna('0',inplace=True)\n",
    "df_plataforma['duration_int'] = df_plataforma['duration_int'].astype('int')\n"
   ]
  },
  {
   "cell_type": "code",
   "execution_count": 12,
   "metadata": {},
   "outputs": [],
   "source": [
    "# Actualizo los nan de la columna \"duration_type\" y le pongo sin dato\n",
    "df_plataforma['duration_type']=df_plataforma['duration_type'].replace(np.nan,'sin dato')"
   ]
  },
  {
   "cell_type": "code",
   "execution_count": 13,
   "metadata": {},
   "outputs": [],
   "source": [
    "# Normalizo los valores de seasons (plural) para que tengan el valor solo de season (singular)\n",
    "df_plataforma['duration_type']=df_plataforma['duration_type'].replace('seasons','season')"
   ]
  },
  {
   "cell_type": "code",
   "execution_count": 14,
   "metadata": {},
   "outputs": [],
   "source": [
    "# Uniendo los dataset de score\n",
    "df_score = pd.concat([df1,df2,df3,df4,df5,df6,df7,df8],ignore_index=True)"
   ]
  },
  {
   "cell_type": "code",
   "execution_count": 15,
   "metadata": {},
   "outputs": [],
   "source": [
    "# Renombra la columna rating por score\n",
    "df_score.rename(columns={'rating':'score'},inplace=True)"
   ]
  },
  {
   "cell_type": "code",
   "execution_count": 16,
   "metadata": {},
   "outputs": [],
   "source": [
    "# Cambia el formato de la columna timestamp a \"YYYY-MM-DD HH:mm:SS\"\n",
    "df_score['timestamp'] = pd.to_datetime(df_score['timestamp'], unit='s')"
   ]
  },
  {
   "cell_type": "code",
   "execution_count": 17,
   "metadata": {},
   "outputs": [],
   "source": [
    "# Agrego columna con promedio score por movieId\n",
    "df_score['promedio'] = df_score.groupby('movieId')['score'].transform('mean')"
   ]
  },
  {
   "cell_type": "code",
   "execution_count": 18,
   "metadata": {},
   "outputs": [],
   "source": [
    "# Genero un dataframe con las columnas \"movieId\" y \"promedio\" para luego hacer merge con el dataframe de las plataformas\n",
    "df_score_promedio = df_score.filter(['movieId','promedio'])\n",
    "df_score_promedio.drop_duplicates(inplace=True)"
   ]
  },
  {
   "cell_type": "code",
   "execution_count": 19,
   "metadata": {},
   "outputs": [],
   "source": [
    "# Haciendo el join entre los dataframes df_plataforma y df_score_promedio y guardándolo en el dataframe df\n",
    "df = pd.merge(df_plataforma,df_score_promedio, left_on='show_id', right_on='movieId', how='inner')"
   ]
  },
  {
   "cell_type": "code",
   "execution_count": 21,
   "metadata": {},
   "outputs": [],
   "source": [
    "# Guarda el dataframe anterior (merge) para Deployar las 4 consultas en Deta Space\n",
    "df.to_pickle('../MLOpsReviews/fichero/df_plataforma_score.pickle')"
   ]
  },
  {
   "cell_type": "code",
   "execution_count": 22,
   "metadata": {},
   "outputs": [],
   "source": [
    "# GUARDO POR DF_PLATAFORMA PARA EDA\n",
    "df_plataforma = df_plataforma.filter(['show_id','title'])\n",
    "df_plataforma.to_pickle('../MLOpsReviews/fichero/df_plataforma.pickle')"
   ]
  },
  {
   "cell_type": "code",
   "execution_count": 23,
   "metadata": {},
   "outputs": [],
   "source": [
    "# GUARDO DF_SCORE PARA EDA\n",
    "df_score = df_score.filter(['userId','score','movieId','timestamp'])\n",
    "df_score.to_pickle('../MLOpsReviews/fichero/df_score.pickle')"
   ]
  }
 ],
 "metadata": {
  "kernelspec": {
   "display_name": "Python 3",
   "language": "python",
   "name": "python3"
  },
  "language_info": {
   "codemirror_mode": {
    "name": "ipython",
    "version": 3
   },
   "file_extension": ".py",
   "mimetype": "text/x-python",
   "name": "python",
   "nbconvert_exporter": "python",
   "pygments_lexer": "ipython3",
   "version": "3.10.2"
  },
  "orig_nbformat": 4,
  "vscode": {
   "interpreter": {
    "hash": "d62d8799179773e6c6d6ba2320db26fb1539c7d5d8d82980b42747f508e0b691"
   }
  }
 },
 "nbformat": 4,
 "nbformat_minor": 2
}
